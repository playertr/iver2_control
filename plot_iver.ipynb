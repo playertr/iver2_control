{
 "cells": [
  {
   "cell_type": "code",
   "execution_count": 1,
   "metadata": {},
   "outputs": [],
   "source": [
    "from plot_iver import prepare_data, plot_inputs_outputs, plot_elevator_rudder_v_roll, parse_config\n",
    "import pandas as pd\n",
    "import numpy as np\n",
    "import matplotlib.pyplot as plt\n",
    "from typing import List\n",
    "from pathlib import Path"
   ]
  },
  {
   "cell_type": "code",
   "execution_count": 2,
   "metadata": {},
   "outputs": [],
   "source": [
    "keys = [ # Config parameters we want to extract from the config file\n",
    "    \"control.depthpidd\",\n",
    "    \"control.depthpidi\",\n",
    "    \"control.depthpidp\",\n",
    "    \"control.headingdeadband\",\n",
    "    \"control.headingpidd\",\n",
    "    \"control.headingpidi\",\n",
    "    \"control.headingpidp\"\n",
    "]\n",
    "\n",
    "def process_run(log_file, config_file):\n",
    "    \"\"\"Function to produce descriptive plot for a single recorded vehicle run.\"\"\"\n",
    "\n",
    "    try:\n",
    "        df = prepare_data(log_file) # extract the data\n",
    "    except (pd.errors.EmptyDataError, TypeError) as e:\n",
    "        return\n",
    "        \n",
    "    config = parse_config(config_file, keys) # parse the PID parameters from the file\n",
    "    \n",
    "    # Save plot of inputs and outputs in a folder\n",
    "    fig, axs = plot_inputs_outputs(df)\n",
    "    fig.suptitle(f'Depth PID: {config[\"control.depthpidp\"], config[\"control.depthpidi\"], config[\"control.depthpidd\"]}. Heading PID: {config[\"control.headingpidp\"], config[\"control.headingpidi\"], config[\"control.headingpidd\"]}\\n{log_file}')\n",
    "    fig.tight_layout()\n",
    "\n",
    "    plt.savefig(\"plots/input_output/\" + str(Path(log_file).name) + \".png\", dpi=400)\n",
    "\n",
    "    # Save plot of elevator, rudder, and roll rate in a different folder\n",
    "    fig, axs = plot_elevator_rudder_v_roll(df)\n",
    "    fig.suptitle(f'Depth PID: {config[\"control.depthpidp\"], config[\"control.depthpidi\"], config[\"control.depthpidd\"]}. Heading PID: {config[\"control.headingpidp\"], config[\"control.headingpidi\"], config[\"control.headingpidd\"]}\\n{log_file}')\n",
    "    fig.tight_layout()\n",
    "    \n",
    "    plt.savefig(\"plots/rollrate/\" + str(Path(log_file).name) + \".png\", dpi=400)"
   ]
  },
  {
   "cell_type": "code",
   "execution_count": 3,
   "metadata": {},
   "outputs": [
    {
     "name": "stdout",
     "output_type": "stream",
     "text": [
      "Processing path: iverControlLogs/IverControlDataLogs09-14-2022/IverControlData-20220915071519.log\n",
      "Processing path: iverControlLogs/IverControlDataLogs09-14-2022/IverControlData-20220915071900.log\n",
      "Processing path: iverControlLogs/IverControlDataLogs09-14-2022/IverControlData-20220915072548.log\n"
     ]
    },
    {
     "name": "stderr",
     "output_type": "stream",
     "text": [
      "/Users/timplayer/miniconda3/envs/iver2/lib/python3.10/site-packages/numpy/core/fromnumeric.py:3432: RuntimeWarning: Mean of empty slice.\n",
      "  return _methods._mean(a, axis=axis, dtype=dtype,\n",
      "/Users/timplayer/miniconda3/envs/iver2/lib/python3.10/site-packages/numpy/core/_methods.py:190: RuntimeWarning: invalid value encountered in double_scalars\n",
      "  ret = ret.dtype.type(ret / rcount)\n"
     ]
    },
    {
     "name": "stdout",
     "output_type": "stream",
     "text": [
      "Processing path: iverControlLogs/IverControlDataLogs09-14-2022/IverControlData-20220915080725.log\n"
     ]
    },
    {
     "name": "stderr",
     "output_type": "stream",
     "text": [
      "/Users/timplayer/miniconda3/envs/iver2/lib/python3.10/site-packages/numpy/core/fromnumeric.py:3432: RuntimeWarning: Mean of empty slice.\n",
      "  return _methods._mean(a, axis=axis, dtype=dtype,\n",
      "/Users/timplayer/miniconda3/envs/iver2/lib/python3.10/site-packages/numpy/core/_methods.py:190: RuntimeWarning: invalid value encountered in double_scalars\n",
      "  ret = ret.dtype.type(ret / rcount)\n"
     ]
    },
    {
     "name": "stdout",
     "output_type": "stream",
     "text": [
      "Processing path: iverControlLogs/IverControlDataLogs09-14-2022/IverControlData-20220915073811.log\n",
      "Processing path: iverControlLogs/IverControlDataLogs09-14-2022/IverControlData-20220915072714.log\n",
      "Processing path: iverControlLogs/IverControlDataLogs09-14-2022/IverControlData-20220915075112.log\n",
      "Processing path: iverControlLogs/IverControlDataLogs09-14-2022/IverControlData-20220915073940.log\n",
      "Processing path: iverControlLogs/IverControlDataLogs09-14-2022/IverControlData-20220915071819.log\n",
      "Processing path: iverControlLogs/IverControlDataLogs09-14-2022/IverControlData-20220915081031.log\n",
      "Processing path: iverControlLogs/IverControlDataLogs09-14-2022/IverControlData-20220915073514.log\n",
      "Processing path: iverControlLogs/IverControlDataLogs09-14-2022/IverControlData-20220915075957.log\n",
      "Processing path: iverControlLogs/IverControlDataLogs09-13-2022/IverControlData-20220913055332.log\n",
      "Processing path: iverControlLogs/IverControlDataLogs09-13-2022/IverControlData-20220913054014.log\n"
     ]
    },
    {
     "name": "stderr",
     "output_type": "stream",
     "text": [
      "/Users/timplayer/Documents/iver2/plot_iver.py:174: RuntimeWarning: More than 20 figures have been opened. Figures created through the pyplot interface (`matplotlib.pyplot.figure`) are retained until explicitly closed and may consume too much memory. (To control this warning, see the rcParam `figure.max_open_warning`).\n",
      "  fig, axs = plt.subplots(3, 2, figsize=(10, 5), tight_layout=True)\n"
     ]
    },
    {
     "name": "stdout",
     "output_type": "stream",
     "text": [
      "Processing path: iverControlLogs/IverControlDataLogs09-13-2022/IverControlData-20220913060117.log\n",
      "Processing path: iverControlLogs/IverControlDataLogs09-13-2022/IverControlData-20220913054538.log\n",
      "Processing path: iverControlLogs/IverControlDataLogs09-13-2022/IverControlData-20220913050429.log\n",
      "Processing path: iverControlLogs/IverControlDataLogs09-13-2022/IverControlData-20220913060259.log\n",
      "Processing path: iverControlLogs/IverControlDataLogs09-13-2022/IverControlData-20220913051331.log\n",
      "Processing path: iverControlLogs/IverControlDataLogs09-13-2022/IverControlData-20220913052556.log\n"
     ]
    }
   ],
   "source": [
    "# Look through all of the log files and attempt to plot them\n",
    "root_directory = Path(\".\")\n",
    "for path_object in root_directory.glob('**/*IverControlData*.log'):\n",
    "    print(f\"Processing path: {path_object}\")\n",
    "\n",
    "    # Extract timestamp\n",
    "    s = path_object.name\n",
    "    timestamp = s[s.find(\"2022\"):s.find(\".log\")]\n",
    "\n",
    "    # Find corresponding config\n",
    "    config_file = next(root_directory.glob(f'**/*Config-{timestamp}.log*')).absolute()\n",
    "\n",
    "    # Apply the processing function from above\n",
    "    process_run(log_file=path_object, config_file=config_file)"
   ]
  }
 ],
 "metadata": {
  "kernelspec": {
   "display_name": "Python 3.10.6 ('iver2')",
   "language": "python",
   "name": "python3"
  },
  "language_info": {
   "codemirror_mode": {
    "name": "ipython",
    "version": 3
   },
   "file_extension": ".py",
   "mimetype": "text/x-python",
   "name": "python",
   "nbconvert_exporter": "python",
   "pygments_lexer": "ipython3",
   "version": "3.10.6"
  },
  "orig_nbformat": 4,
  "vscode": {
   "interpreter": {
    "hash": "db69f0f34c9ea8a3a2e281fc06b0311a160235550fbadc9bc498764b101f76e6"
   }
  }
 },
 "nbformat": 4,
 "nbformat_minor": 2
}
