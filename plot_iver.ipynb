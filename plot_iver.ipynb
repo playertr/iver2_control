{
 "cells": [
  {
   "cell_type": "code",
   "execution_count": null,
   "metadata": {},
   "outputs": [],
   "source": [
    "from plot_iver import prepare_data, plot_inputs_outputs, plot_elevator_rudder_v_roll, parse_config\n",
    "import pandas as pd\n",
    "import numpy as np\n",
    "import matplotlib.pyplot as plt\n",
    "from typing import List\n",
    "from pathlib import Path"
   ]
  },
  {
   "cell_type": "code",
   "execution_count": null,
   "metadata": {},
   "outputs": [],
   "source": [
    "keys = [ # Config parameters we want to extract from the config file\n",
    "    \"control.depthpidd\",\n",
    "    \"control.depthpidi\",\n",
    "    \"control.depthpidp\",\n",
    "    \"control.headingdeadband\",\n",
    "    \"control.headingpidd\",\n",
    "    \"control.headingpidi\",\n",
    "    \"control.headingpidp\",\n",
    "    \"control.rollpidp\",\n",
    "    \"control.rollpidi\",\n",
    "    \"control.rollpidd\",\n",
    "    \"control.rolldeadband\"\n",
    "]\n",
    "\n",
    "def process_run(log_file, config_file):\n",
    "    \"\"\"Function to produce descriptive plot for a single recorded vehicle run.\"\"\"\n",
    "\n",
    "    try:\n",
    "        df = prepare_data(log_file) # extract the data\n",
    "    except (pd.errors.EmptyDataError, TypeError) as e:\n",
    "        return\n",
    "        \n",
    "    config = parse_config(config_file, keys) # parse the PID parameters from the file\n",
    "    \n",
    "    # Save plot of inputs and outputs in a folder\n",
    "    fig, axs = plot_inputs_outputs(df)\n",
    "    fig.suptitle(f'Depth PID: {config[\"control.depthpidp\"], config[\"control.depthpidi\"], config[\"control.depthpidd\"]}. Heading PID: {config[\"control.headingpidp\"], config[\"control.headingpidi\"], config[\"control.headingpidd\"]} Roll PID: {config[\"control.rollpidp\"], config[\"control.rollpidi\"], config[\"control.rollpidd\"]} Roll Deadband: {config[\"control.rolldeadband\"]}\\n{log_file}')\n",
    "    fig.tight_layout()\n",
    "\n",
    "    plt.savefig(\"plots/input_output/\" + str(Path(log_file).name) + \".pdf\", dpi=400)\n",
    "\n",
    "    # Save plot of elevator, rudder, and roll rate in a different folder\n",
    "    fig, axs = plot_elevator_rudder_v_roll(df)\n",
    "    fig.suptitle(f'Depth PID: {config[\"control.depthpidp\"], config[\"control.depthpidi\"], config[\"control.depthpidd\"]}. Heading PID: {config[\"control.headingpidp\"], config[\"control.headingpidi\"], config[\"control.headingpidd\"]} Roll PID: {config[\"control.rollpidp\"], config[\"control.rollpidi\"], config[\"control.rollpidd\"]} Roll Deadband: {config[\"control.rolldeadband\"]}\\n{log_file}')\n",
    "    fig.tight_layout()\n",
    "    \n",
    "    plt.savefig(\"plots/rollrate/\" + str(Path(log_file).name) + \".pdf\", dpi=400)"
   ]
  },
  {
   "cell_type": "code",
   "execution_count": null,
   "metadata": {},
   "outputs": [],
   "source": [
    "# Look through all of the log files and attempt to plot them\n",
    "root_directory = Path(\".\")\n",
    "for path_object in root_directory.glob('**/*IverControlData*.log'):\n",
    "    print(f\"Processing path: {path_object}\")\n",
    "\n",
    "    # Extract timestamp\n",
    "    s = path_object.name\n",
    "    timestamp = s[s.find(\"2022\"):s.find(\".log\")]\n",
    "\n",
    "    # Find corresponding config\n",
    "    config_file = next(root_directory.glob(f'**/*Config-{timestamp}.log*')).absolute()\n",
    "\n",
    "    # Apply the processing function from above\n",
    "    process_run(log_file=path_object, config_file=config_file)"
   ]
  }
 ],
 "metadata": {
  "kernelspec": {
   "display_name": "Python 3.10.6 ('iver2')",
   "language": "python",
   "name": "python3"
  },
  "language_info": {
   "codemirror_mode": {
    "name": "ipython",
    "version": 3
   },
   "file_extension": ".py",
   "mimetype": "text/x-python",
   "name": "python",
   "nbconvert_exporter": "python",
   "pygments_lexer": "ipython3",
   "version": "3.10.6"
  },
  "orig_nbformat": 4,
  "vscode": {
   "interpreter": {
    "hash": "db69f0f34c9ea8a3a2e281fc06b0311a160235550fbadc9bc498764b101f76e6"
   }
  }
 },
 "nbformat": 4,
 "nbformat_minor": 2
}
